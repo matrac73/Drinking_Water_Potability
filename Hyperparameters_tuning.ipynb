{
 "cells": [
  {
   "cell_type": "markdown",
   "metadata": {},
   "source": [
    "# Drinking Water Potability Project\n",
    "\n",
    "**Charles Serve-Catelin** - **Samuel Pujade** - **Mathieu Ract**"
   ]
  },
  {
   "cell_type": "markdown",
   "metadata": {},
   "source": [
    "## Récupération et Nettoyage des données"
   ]
  },
  {
   "cell_type": "code",
   "execution_count": null,
   "metadata": {},
   "outputs": [],
   "source": [
    "import project\n",
    "from importlib import reload\n",
    "reload(project)\n",
    "\n",
    "project.avoid_warnings()\n",
    "project.load_data(\"./data/drinking_water_potability.csv\", disp=False)\n",
    "project.display_explanatory_variables(disp=False)\n",
    "project.check_null_values(disp=False)\n",
    "project.cleaning_dataset('delete') # 'mean' or 'delete'\n",
    "project.cope_outliers('delete') # 'delete' or 'Q+1.5' or 'Q'\n",
    "\n",
    "project.split_dataset(ratio=0.8, disp=False)\n",
    "project.scaling_trainset()\n",
    "project.set_metric('accuracy') # 'accuracy'  or 'f1_score'\n",
    "\n",
    "project.fitting_KNN_model()\n",
    "project.testing_KNN_model()\n",
    "\n",
    "project.fitting_LR_model()\n",
    "project.testing_LR_model()\n",
    "\n",
    "project.fitting_RF_model()\n",
    "project.testing_RF_model()\n",
    "\n",
    "project.fitting_SVM_model()\n",
    "project.testing_SVM_model()\n",
    "\n",
    "project.fitting_XGboost_model()\n",
    "project.testing_XGboost_model()"
   ]
  },
  {
   "cell_type": "markdown",
   "metadata": {},
   "source": [
    "## Tuning kNN hyperparameters"
   ]
  },
  {
   "cell_type": "markdown",
   "metadata": {},
   "source": [
    "We need to specify a parameter grid to sample from during fitting :"
   ]
  },
  {
   "cell_type": "code",
   "execution_count": null,
   "metadata": {},
   "outputs": [],
   "source": [
    "param_grid_kNN = {'n_neighbors' : list(range(1, 31)), # Number of neighbors to use\n",
    "    'weights': ['uniform', 'distance'], # Weight function used in prediction\n",
    "    'leaf_size' : list(range(1, 51)), # Leaf size passed to BallTree or KDTree\n",
    "    'p' : [1, 2]} # Power parameter for the Minkowski metric\n",
    "\n",
    "param_grid_kNN_small = {'n_neighbors' : list(range(20, 30)), # Number of neighbors to use\n",
    "    'weights': ['uniform'], # Weight function used in prediction\n",
    "    'leaf_size' : list(range(20, 30)), # Leaf size passed to BallTree or KDTree\n",
    "    'p' : [2]} # Power parameter for the Minkowski metric\n",
    "\n",
    "best_params_kNN_RS = project.tuning_kNN_hyperparameters(param_grid_kNN, 'RandomizedSearchCV')\n",
    "best_params_kNN_GS = project.tuning_kNN_hyperparameters(param_grid_kNN_small, 'GridSearchCV')"
   ]
  },
  {
   "cell_type": "code",
   "execution_count": null,
   "metadata": {},
   "outputs": [],
   "source": [
    "project.fitting_kNN_tuned_model(best_params_kNN_RS)\n",
    "project.fitting_kNN_tuned_model(best_params_kNN_GS)"
   ]
  },
  {
   "cell_type": "markdown",
   "metadata": {},
   "source": [
    "## Tuning Logistic Regression hyperparameters"
   ]
  },
  {
   "cell_type": "markdown",
   "metadata": {},
   "source": [
    "We need to specify a parameter grid to sample from during fitting :"
   ]
  },
  {
   "cell_type": "code",
   "execution_count": null,
   "metadata": {},
   "outputs": [],
   "source": [
    "param_grid_LR = {'C': list(range(1, 100, 20)),  # penalty strength\n",
    "    'penalty': ['l2'], # Norm of the penalty\n",
    "    'solver': ['newton-cg', 'lbfgs', 'liblinear', 'sag', 'saga']} # Algorithm to use in the optimization problem\n",
    "\n",
    "best_params_LR_RS = project.tuning_LR_hyperparameters(param_grid_LR, 'RandomizedSearchCV')\n",
    "best_params_LR_GS = project.tuning_LR_hyperparameters(param_grid_LR, 'GridSearchCV')"
   ]
  },
  {
   "cell_type": "code",
   "execution_count": null,
   "metadata": {},
   "outputs": [],
   "source": [
    "project.fitting_LR_tuned_model(best_params_LR_RS)\n",
    "project.fitting_LR_tuned_model(best_params_LR_GS)"
   ]
  },
  {
   "cell_type": "markdown",
   "metadata": {},
   "source": [
    "## Tuning RF hyperparameters"
   ]
  },
  {
   "cell_type": "markdown",
   "metadata": {},
   "source": [
    "We need to specify a parameter grid to sample from during fitting :"
   ]
  },
  {
   "cell_type": "code",
   "execution_count": null,
   "metadata": {},
   "outputs": [],
   "source": [
    "param_grid_RF = {'n_estimators' : list(range(200, 2000, 200)), # The number of trees in the forest\n",
    "    'max_depth' : list(range(10, 110, 10)) + [None], # max number of levels in each decision tree\n",
    "    'min_samples_split' : [2, 5, 10], # min number of data points placed in a node before the node is split\n",
    "    'min_samples_leaf' : [1, 2, 4], # min number of data points allowed in a leaf node\n",
    "    'bootstrap' : [True, False]} # method for sampling data points (with or without replacement)\n",
    "\n",
    "param_grid_RF_small = {'n_estimators' : list(range(550, 650, 50)), # The number of trees in the forest\n",
    "    'max_depth' : list(range(20, 40, 10)) + [None], # max number of levels in each decision tree\n",
    "    'min_samples_split' : [5], # min number of data points placed in a node before the node is split\n",
    "    'min_samples_leaf' : [4], # min number of data points allowed in a leaf node\n",
    "    'bootstrap' : [True]} # method for sampling data points (with or without replacement)\n",
    "\n",
    "best_params_RF_RS = project.tuning_RF_hyperparameters(param_grid_RF, 'RandomizedSearchCV')\n",
    "best_params_RF_GS = project.tuning_RF_hyperparameters(param_grid_RF_small, 'GridSearchCV')"
   ]
  },
  {
   "cell_type": "code",
   "execution_count": null,
   "metadata": {},
   "outputs": [],
   "source": [
    "project.fitting_RF_tuned_model(best_params_RF_RS)\n",
    "project.fitting_RF_tuned_model(best_params_RF_GS)"
   ]
  },
  {
   "cell_type": "markdown",
   "metadata": {},
   "source": [
    "## Tuning SVM hyperparameters"
   ]
  },
  {
   "cell_type": "markdown",
   "metadata": {},
   "source": [
    "We need to specify a parameter grid to sample from during fitting :"
   ]
  },
  {
   "cell_type": "code",
   "execution_count": null,
   "metadata": {},
   "outputs": [],
   "source": [
    "param_grid_SVM = {'kernel': ['linear', 'rbf', 'poly', 'sigmoid'], # Kernel type\n",
    "    'C': [0.1, 1, 10, 100], # Regularization parameter\n",
    "    'gamma': [1, 0.1, 0.01, 0.001]}\n",
    "\n",
    "param_grid_SVM_small = {'kernel': ['linear', 'rbf', 'poly', 'sigmoid'], # Kernel type\n",
    "    'C': [0.1, 1, 10, 100], # Regularization parameter\n",
    "    'gamma': [1, 0.1, 0.01, 0.001]}\n",
    "\n",
    "best_params_SVM_RS = project.tuning_SVM_hyperparameters(param_grid_SVM, 'RandomizedSearchCV')\n",
    "best_params_SVM_GS = project.tuning_SVM_hyperparameters(param_grid_SVM_small, 'GridSearchCV')"
   ]
  },
  {
   "cell_type": "code",
   "execution_count": null,
   "metadata": {},
   "outputs": [],
   "source": [
    "project.fitting_testing_best_SVM_model(best_params_SVM_RS)\n",
    "project.fitting_testing_best_SVM_model(best_params_SVM_GS)"
   ]
  },
  {
   "cell_type": "markdown",
   "metadata": {},
   "source": [
    "## Tuning XGboost hyperparameters"
   ]
  },
  {
   "cell_type": "markdown",
   "metadata": {},
   "source": [
    "We need to specify a parameter grid to sample from during fitting :"
   ]
  },
  {
   "cell_type": "code",
   "execution_count": null,
   "metadata": {},
   "outputs": [],
   "source": [
    "param_grid_XGboost = {'min_child_weight': [1, 5, 10],\n",
    "                      'gamma': [0.5, 1, 1.5, 2, 5],\n",
    "                      'subsample': [0.6, 0.8, 1.0],\n",
    "                      'colsample_bytree': [0.6, 0.8, 1.0],\n",
    "                      'max_depth': [3, 4, 5]}\n",
    "\n",
    "best_params_XGboost_GS = project.tuning_XGboost_hyperparameters(param_grid_XGboost, 'GridSearchCV')"
   ]
  },
  {
   "cell_type": "code",
   "execution_count": null,
   "metadata": {},
   "outputs": [],
   "source": [
    "project.fitting_XGboost_tuned_model(best_params_XGboost_GS)"
   ]
  }
 ],
 "metadata": {
  "interpreter": {
   "hash": "f65dd8c84c882f14be6bd1a9d59d5c1e9249b8d074f9b0b9f314a6694312e1be"
  },
  "kernelspec": {
   "display_name": "drinking_water_potability",
   "language": "python",
   "name": "drinking_water_potability"
  },
  "language_info": {
   "codemirror_mode": {
    "name": "ipython",
    "version": 3
   },
   "file_extension": ".py",
   "mimetype": "text/x-python",
   "name": "python",
   "nbconvert_exporter": "python",
   "pygments_lexer": "ipython3",
   "version": "3.8.5"
  }
 },
 "nbformat": 4,
 "nbformat_minor": 4
}
